{
 "cells": [
  {
   "cell_type": "code",
   "execution_count": null,
   "id": "d08f3084-a309-4bbd-90be-add4c25eed5a",
   "metadata": {},
   "outputs": [],
   "source": [
    "#prin"
   ]
  }
 ],
 "metadata": {
  "kernelspec": {
   "display_name": "Rbase",
   "language": "R",
   "name": "ir"
  },
  "language_info": {
   "codemirror_mode": "r",
   "file_extension": ".r",
   "mimetype": "text/x-r-source",
   "name": "R",
   "pygments_lexer": "r",
   "version": "4.3.1"
  }
 },
 "nbformat": 4,
 "nbformat_minor": 5
}
